{
 "cells": [
  {
   "cell_type": "code",
   "execution_count": 8,
   "metadata": {},
   "outputs": [],
   "source": [
    "class number:\n",
    "    def __init__(self,n):\n",
    "        self.n=n\n",
    "    def check(self):\n",
    "        for i in range(0,self.n):\n",
    "            if i%7==0:\n",
    "                print(i)"
   ]
  },
  {
   "cell_type": "code",
   "execution_count": 12,
   "metadata": {},
   "outputs": [
    {
     "name": "stdout",
     "output_type": "stream",
     "text": [
      "0\n",
      "7\n",
      "14\n",
      "21\n",
      "28\n",
      "35\n",
      "42\n",
      "49\n",
      "56\n",
      "63\n",
      "70\n",
      "77\n",
      "84\n",
      "91\n",
      "98\n"
     ]
    }
   ],
   "source": [
    "num=number(100)\n",
    "num.check()"
   ]
  },
  {
   "cell_type": "code",
   "execution_count": 32,
   "metadata": {},
   "outputs": [],
   "source": [
    "class frequency:\n",
    "    def __init__(self,para):\n",
    "        self.para=para\n",
    "    def xyz(self):\n",
    "        words=(self.para).split(\" \")\n",
    "        words.sort()\n",
    "        l=[]\n",
    "        for i in words:\n",
    "            if i not in l:\n",
    "                print(i,\":\",words.count(i))\n",
    "                l.append(i)\n",
    "                 "
   ]
  },
  {
   "cell_type": "code",
   "execution_count": 33,
   "metadata": {},
   "outputs": [
    {
     "name": "stdout",
     "output_type": "stream",
     "text": [
      "2 : 2\n",
      "3. : 1\n",
      "3? : 1\n",
      "New : 1\n",
      "Python : 5\n",
      "Read : 1\n",
      "and : 1\n",
      "between : 1\n",
      "choosing : 1\n",
      "or : 2\n",
      "to : 1\n"
     ]
    }
   ],
   "source": [
    "abc=frequency(\"New to Python or choosing between Python 2 and Python 3? Read Python 2 or Python 3.\")\n",
    "abc.xyz()              \n"
   ]
  },
  {
   "cell_type": "code",
   "execution_count": 3,
   "metadata": {},
   "outputs": [],
   "source": [
    "class Person:\n",
    "    def __getGender__(self):\n",
    "        pass\n",
    "class Male(Person):\n",
    "    def __getGender__(self):\n",
    "        print(\"Male\")\n",
    "class Female(Person):\n",
    "    def __getGender__(self):\n",
    "        print(\"Female\")\n",
    "    \n",
    "            "
   ]
  },
  {
   "cell_type": "code",
   "execution_count": 11,
   "metadata": {},
   "outputs": [
    {
     "name": "stdout",
     "output_type": "stream",
     "text": [
      "Male\n"
     ]
    }
   ],
   "source": [
    "sudh=Male()\n",
    "sudh.__getGender__()\n"
   ]
  },
  {
   "cell_type": "code",
   "execution_count": 42,
   "metadata": {},
   "outputs": [],
   "source": [
    "def sentences(subjects,verbs,objects):\n",
    "    for sub in subjects:\n",
    "        for ver in verbs:\n",
    "            for obj in objects:\n",
    "                sentence_list=sub+\" \"+ver+\" \"+obj\n",
    "                print(sentence_list)      "
   ]
  },
  {
   "cell_type": "code",
   "execution_count": 43,
   "metadata": {},
   "outputs": [
    {
     "name": "stdout",
     "output_type": "stream",
     "text": [
      "I Play Hockey\n",
      "I Play Football\n",
      "I Love Hockey\n",
      "I Love Football\n",
      "You Play Hockey\n",
      "You Play Football\n",
      "You Love Hockey\n",
      "You Love Football\n"
     ]
    }
   ],
   "source": [
    "sentences([\"I\",\"You\"],[\"Play\",\"Love\"],[\"Hockey\",\"Football\"])"
   ]
  },
  {
   "cell_type": "code",
   "execution_count": 46,
   "metadata": {},
   "outputs": [
    {
     "name": "stdout",
     "output_type": "stream",
     "text": [
      "b'x\\x9c\\xcbH\\xcd\\xc9\\xc9W(\\xcf/\\xcaIQ\\xcc \\x82\\r\\x00\\xbd[\\x11\\xf5'\n",
      "b'hello world!hello world!hello world!hello world!'\n"
     ]
    }
   ],
   "source": [
    "import zlib\n",
    "a='hello world!hello world!hello world!hello world!'\n",
    "s=a.encode(\"utf-8\")\n",
    "zlib_s=zlib.compress(s)\n",
    "print(zlib_s)\n",
    "zlib_ds=zlib.decompress(zlib_s)\n",
    "print(zlib_ds)"
   ]
  },
  {
   "cell_type": "code",
   "execution_count": 53,
   "metadata": {},
   "outputs": [
    {
     "name": "stdout",
     "output_type": "stream",
     "text": [
      "Element is present at index  3\n"
     ]
    }
   ],
   "source": [
    "def binary_search(arr,low,high,x):\n",
    "    if high>=low:\n",
    "        mid=(high+low)//2\n",
    "        if arr[mid]==x:\n",
    "            return mid\n",
    "        elif arr[mid]>x:\n",
    "            return binary_search(arr,low,mid-1,x)\n",
    "        else:\n",
    "            return binary_search(arr,mid+1,high,x)\n",
    "    else:\n",
    "        return -1\n",
    "arr=[2,3,4,10,40]\n",
    "x=10\n",
    "result=binary_search(arr,0,len(arr)-1,x)\n",
    "if result!= -1:\n",
    "    print(\"Element is present at index \",result)\n",
    "else:\n",
    "    print(\"Element not present\")"
   ]
  },
  {
   "cell_type": "code",
   "execution_count": null,
   "metadata": {},
   "outputs": [],
   "source": []
  },
  {
   "cell_type": "code",
   "execution_count": null,
   "metadata": {},
   "outputs": [],
   "source": []
  }
 ],
 "metadata": {
  "kernelspec": {
   "display_name": "Python 3",
   "language": "python",
   "name": "python3"
  },
  "language_info": {
   "codemirror_mode": {
    "name": "ipython",
    "version": 3
   },
   "file_extension": ".py",
   "mimetype": "text/x-python",
   "name": "python",
   "nbconvert_exporter": "python",
   "pygments_lexer": "ipython3",
   "version": "3.8.5"
  }
 },
 "nbformat": 4,
 "nbformat_minor": 4
}
